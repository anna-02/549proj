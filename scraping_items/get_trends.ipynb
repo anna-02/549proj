{
 "cells": [
  {
   "cell_type": "code",
   "execution_count": 6,
   "id": "eff4c039-dbd8-4697-ac36-b85cdc7bc25e",
   "metadata": {},
   "outputs": [],
   "source": [
    "import pytrends\n",
    "import pandas as pd "
   ]
  },
  {
   "cell_type": "code",
   "execution_count": 7,
   "id": "7a133e95-2d9e-4bc4-8547-06a7dbf02f50",
   "metadata": {},
   "outputs": [],
   "source": [
    "import pandas as pd                        \n",
    "from pytrends.request import TrendReq\n",
    "pytrend = TrendReq()"
   ]
  },
  {
   "cell_type": "code",
   "execution_count": null,
   "id": "5d86d3c9-7bc9-4056-bca4-122650d43d05",
   "metadata": {},
   "outputs": [],
   "source": [
    "# Related Queries, returns a dictionary of dataframes\n",
    "pytrend.build_payload(kw_list=['Coronavirus'])\n",
    "# \n",
    "related_queries = pytrend.related_queries()"
   ]
  },
  {
   "cell_type": "code",
   "execution_count": 10,
   "id": "28de677e-5273-4e6d-bb2d-219f472fde72",
   "metadata": {},
   "outputs": [
    {
     "data": {
      "text/plain": [
       "{'Coronavirus': {'top':                             query  value\n",
       "  0              coronavirus update    100\n",
       "  1               coronavirus cases     88\n",
       "  2                  uk coronavirus     72\n",
       "  3                coronavirus news     71\n",
       "  4                          corona     59\n",
       "  5               india coronavirus     53\n",
       "  6            coronavirus symptoms     38\n",
       "  7              coronavirus france     36\n",
       "  8   thank you coronavirus helpers     35\n",
       "  9         worldometer coronavirus     34\n",
       "  10                usa coronavirus     34\n",
       "  11              coronavirus world     33\n",
       "  12                    worldometer     33\n",
       "  13                 coronavirus us     32\n",
       "  14                 us coronavirus     32\n",
       "  15               coronavirus live     31\n",
       "  16             italia coronavirus     31\n",
       "  17                coronavirus map     30\n",
       "  18               coronavirus tips     28\n",
       "  19             coronavirus deaths     27\n",
       "  20                       covid 19     24\n",
       "  21                   corona virus     24\n",
       "  22             coronavirus españa     24\n",
       "  23           coronavirus in india     23\n",
       "  24              coronavirus death     23,\n",
       "  'rising':                                                 query   value\n",
       "  0                       thank you coronavirus helpers  166750\n",
       "  1                             worldometer coronavirus  165500\n",
       "  2                                            covid 19  117300\n",
       "  3                                   coronavirus italy   74350\n",
       "  4                                    coronavirus oggi   71000\n",
       "  5                             india coronavirus cases   47500\n",
       "  6                                us coronavirus cases   38950\n",
       "  7                             coronavirus update live   37050\n",
       "  8                               coronavirus deaths uk   35100\n",
       "  9                          coronavirus cases in india   28650\n",
       "  10                            ultima hora coronavirus   27400\n",
       "  11                                coronavirus aktuell   27050\n",
       "  12                               coronavirus by state   26100\n",
       "  13                           worldometers coronavirus   25600\n",
       "  14                           coronavirus en argentina   22850\n",
       "  15                                 coronavirus italie   21550\n",
       "  16                                        worldometer   21550\n",
       "  17                            world coronavirus cases   20950\n",
       "  18                                coronavirus romania   20550\n",
       "  19  merci à tous ceux qui aident à combattre le co...   19800\n",
       "  20                                  wuhan coronavirus   18750\n",
       "  21                                  coronavirus meter   17050\n",
       "  22                               coronavirus campania   14350\n",
       "  23                             coronavirus update usa   14100\n",
       "  24                              coronavirus world map   13650}}"
      ]
     },
     "execution_count": 10,
     "metadata": {},
     "output_type": "execute_result"
    }
   ],
   "source": [
    "related_queries"
   ]
  },
  {
   "cell_type": "code",
   "execution_count": null,
   "id": "707818b6-d039-4f25-b428-8048391efd56",
   "metadata": {},
   "outputs": [],
   "source": [
    "# Related Topics, returns a dictionary of dataframes\n",
    "related_topic = pytrend.related_topics()\n",
    "related_topic.values()"
   ]
  },
  {
   "cell_type": "code",
   "execution_count": null,
   "id": "e849b211-ff29-497b-8af3-ac9662c7acda",
   "metadata": {},
   "outputs": [],
   "source": []
  },
  {
   "cell_type": "code",
   "execution_count": 15,
   "id": "7c94959b-3bd2-4818-a2a1-3beb5b3c10cc",
   "metadata": {},
   "outputs": [],
   "source": [
    "# Get Google Hot Trends data\n",
    "category_dict = {\n",
    "    'People & Society': 14,\n",
    "    'Ethnic & Identity Groups':56,\n",
    "    'Discrimination & Identity Relations':1205,\n",
    "    'Politics':396,\n",
    "    'News':16,\n",
    "    'World News':1209,\n",
    "    'Business News':784,\n",
    "}\n",
    "df_list = []\n",
    "for cat_name, cat_id in category_dict.items():\n",
    "\n",
    "  cat_df = pytrend.trending_searches(pn=\"united_states\")\n",
    "  cat_df['category'] = cat_name\n",
    "  cat_df['cat_id'] = cat_id\n",
    "  df_list.append(cat_df)\n",
    "df = pd.concat(df_list,axis=0)\n"
   ]
  },
  {
   "cell_type": "code",
   "execution_count": 16,
   "id": "4aa931b2-4d95-4893-b8f0-7c74b8db38e4",
   "metadata": {},
   "outputs": [
    {
     "data": {
      "text/html": [
       "<div>\n",
       "<style scoped>\n",
       "    .dataframe tbody tr th:only-of-type {\n",
       "        vertical-align: middle;\n",
       "    }\n",
       "\n",
       "    .dataframe tbody tr th {\n",
       "        vertical-align: top;\n",
       "    }\n",
       "\n",
       "    .dataframe thead th {\n",
       "        text-align: right;\n",
       "    }\n",
       "</style>\n",
       "<table border=\"1\" class=\"dataframe\">\n",
       "  <thead>\n",
       "    <tr style=\"text-align: right;\">\n",
       "      <th></th>\n",
       "      <th>0</th>\n",
       "      <th>category</th>\n",
       "      <th>cat_id</th>\n",
       "    </tr>\n",
       "  </thead>\n",
       "  <tbody>\n",
       "    <tr>\n",
       "      <th>0</th>\n",
       "      <td>Patriots</td>\n",
       "      <td>People &amp; Society</td>\n",
       "      <td>14</td>\n",
       "    </tr>\n",
       "    <tr>\n",
       "      <th>1</th>\n",
       "      <td>Jimbo Fisher</td>\n",
       "      <td>People &amp; Society</td>\n",
       "      <td>14</td>\n",
       "    </tr>\n",
       "    <tr>\n",
       "      <th>2</th>\n",
       "      <td>Steelers</td>\n",
       "      <td>People &amp; Society</td>\n",
       "      <td>14</td>\n",
       "    </tr>\n",
       "    <tr>\n",
       "      <th>3</th>\n",
       "      <td>Chelsea vs Man City</td>\n",
       "      <td>People &amp; Society</td>\n",
       "      <td>14</td>\n",
       "    </tr>\n",
       "    <tr>\n",
       "      <th>4</th>\n",
       "      <td>Diwali</td>\n",
       "      <td>People &amp; Society</td>\n",
       "      <td>14</td>\n",
       "    </tr>\n",
       "    <tr>\n",
       "      <th>...</th>\n",
       "      <td>...</td>\n",
       "      <td>...</td>\n",
       "      <td>...</td>\n",
       "    </tr>\n",
       "    <tr>\n",
       "      <th>15</th>\n",
       "      <td>Jiří Procházka</td>\n",
       "      <td>Business News</td>\n",
       "      <td>784</td>\n",
       "    </tr>\n",
       "    <tr>\n",
       "      <th>16</th>\n",
       "      <td>Lakers</td>\n",
       "      <td>Business News</td>\n",
       "      <td>784</td>\n",
       "    </tr>\n",
       "    <tr>\n",
       "      <th>17</th>\n",
       "      <td>Michigan vs Penn State</td>\n",
       "      <td>Business News</td>\n",
       "      <td>784</td>\n",
       "    </tr>\n",
       "    <tr>\n",
       "      <th>18</th>\n",
       "      <td>Boygenius</td>\n",
       "      <td>Business News</td>\n",
       "      <td>784</td>\n",
       "    </tr>\n",
       "    <tr>\n",
       "      <th>19</th>\n",
       "      <td>Megan Rapinoe</td>\n",
       "      <td>Business News</td>\n",
       "      <td>784</td>\n",
       "    </tr>\n",
       "  </tbody>\n",
       "</table>\n",
       "<p>140 rows × 3 columns</p>\n",
       "</div>"
      ],
      "text/plain": [
       "                         0          category  cat_id\n",
       "0                 Patriots  People & Society      14\n",
       "1             Jimbo Fisher  People & Society      14\n",
       "2                 Steelers  People & Society      14\n",
       "3      Chelsea vs Man City  People & Society      14\n",
       "4                   Diwali  People & Society      14\n",
       "..                     ...               ...     ...\n",
       "15          Jiří Procházka     Business News     784\n",
       "16                  Lakers     Business News     784\n",
       "17  Michigan vs Penn State     Business News     784\n",
       "18               Boygenius     Business News     784\n",
       "19           Megan Rapinoe     Business News     784\n",
       "\n",
       "[140 rows x 3 columns]"
      ]
     },
     "execution_count": 16,
     "metadata": {},
     "output_type": "execute_result"
    }
   ],
   "source": [
    "df"
   ]
  },
  {
   "cell_type": "code",
   "execution_count": null,
   "id": "c9fabdd1-c95e-4809-91f5-a17332707b53",
   "metadata": {},
   "outputs": [],
   "source": []
  }
 ],
 "metadata": {
  "kernelspec": {
   "display_name": "Python 3 (ipykernel)",
   "language": "python",
   "name": "python3"
  },
  "language_info": {
   "codemirror_mode": {
    "name": "ipython",
    "version": 3
   },
   "file_extension": ".py",
   "mimetype": "text/x-python",
   "name": "python",
   "nbconvert_exporter": "python",
   "pygments_lexer": "ipython3",
   "version": "3.12.0"
  }
 },
 "nbformat": 4,
 "nbformat_minor": 5
}
