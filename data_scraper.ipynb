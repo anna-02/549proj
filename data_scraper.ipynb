{
  "cells": [
    {
      "cell_type": "markdown",
      "metadata": {
        "id": "view-in-github",
        "colab_type": "text"
      },
      "source": [
        "<a href=\"https://colab.research.google.com/github/anna-02/549proj/blob/main/data_scraper.ipynb\" target=\"_parent\"><img src=\"https://colab.research.google.com/assets/colab-badge.svg\" alt=\"Open In Colab\"/></a>"
      ]
    },
    {
      "cell_type": "markdown",
      "source": [
        "http://colab.research.google.com/github"
      ],
      "metadata": {
        "id": "xcFjn2of5v5q"
      }
    },
    {
      "cell_type": "code",
      "execution_count": null,
      "metadata": {
        "id": "m4LhYzgd5q-4"
      },
      "outputs": [],
      "source": [
        "!pip install pytrends"
      ]
    },
    {
      "cell_type": "code",
      "execution_count": null,
      "metadata": {
        "id": "rYRDZOwQ5q-9"
      },
      "outputs": [],
      "source": [
        "keywords = ['']\n",
        "# for each month\n",
        "# for each category\n",
        "# build payload\n",
        "# download top and rising\n",
        "pytrend.build_payload(kw_list=[''], geo='RU', timeframe=['2022-09-04 2022-09-10'])\n",
        "x = pytrend.related_queries()\n",
        "\n",
        "pd.concat([x['']['top'],x['']['rising']]).reset_index(inplace=True)"
      ]
    }
  ],
  "metadata": {
    "language_info": {
      "name": "python"
    },
    "orig_nbformat": 4,
    "colab": {
      "provenance": [],
      "include_colab_link": true
    }
  },
  "nbformat": 4,
  "nbformat_minor": 0
}